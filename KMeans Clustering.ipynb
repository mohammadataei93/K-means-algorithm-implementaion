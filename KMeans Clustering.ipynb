{
 "cells": [
  {
   "cell_type": "code",
   "execution_count": 5,
   "metadata": {},
   "outputs": [],
   "source": [
    "import numpy as np\n",
    "import pandas as pd\n",
    "import matplotlib.pyplot as plt"
   ]
  },
  {
   "cell_type": "code",
   "execution_count": 6,
   "metadata": {},
   "outputs": [],
   "source": [
    "class K_means():\n",
    "    def __init__(self,k):\n",
    "        self.k=k\n",
    "        self.dimension=None\n",
    "        self.centers=None\n",
    "        self.last_centers=None\n",
    "        self.clusters=[]\n",
    "        self.longest_dist = False\n",
    "    \n",
    "    def oclidian_dist(self,s1,s2):\n",
    "        temp=0\n",
    "        for d in range(len(s1)):\n",
    "            temp+= (s1[d] - s2[d])**2\n",
    "        return np.sqrt(temp)\n",
    "    \n",
    "    def cluster_cent(self, cluster):\n",
    "        clus=np.array(cluster)\n",
    "        cent=[]\n",
    "        for d in range(self.dimension):\n",
    "            cent.append(np.mean(clus[:,d]))\n",
    "        return np.array(cent)\n",
    "    \n",
    "    def fit(self, data ,longest_dist=False):\n",
    "        self.longest_dist=longest_dist\n",
    "        self.data=np.array(data)\n",
    "        self.dimension=self.data.shape[1]\n",
    "        self._init()\n",
    "        continue_loop=True\n",
    "        ss=0\n",
    "        while continue_loop:\n",
    "            self.clusters=[]\n",
    "            for k in range(self.k):\n",
    "                self.clusters.append([])\n",
    "            ss+=1\n",
    "            #print(ss)\n",
    "            self.last_centers=self.centers.copy()\n",
    "            for s in self.samples:\n",
    "                temp_list=[]\n",
    "                for k in range(self.k):\n",
    "                    temp_list.append(self.oclidian_dist(s,self.centers[k]))\n",
    "                cluster_num=np.argmin(temp_list)\n",
    "                self.clusters[cluster_num].append(s)\n",
    "            for k in range(self.k):\n",
    "                self.centers[k]=self.cluster_cent(self.clusters[k])\n",
    "            count=0\n",
    "            for k in range(self.k):\n",
    "                if list(self.last_centers[k]) == list(self.centers[k]):\n",
    "                    count+=1\n",
    "            if count >= self.k-1:\n",
    "                continue_loop=False\n",
    "            self.samples=self.data\n",
    "        return self.clusters \n",
    "            \n",
    "    def _init(self):\n",
    "        if self.longest_dist == False:\n",
    "            self.samples=self.data\n",
    "            np.random.shuffle(self.samples)\n",
    "            self.centers=self.samples[:self.k]\n",
    "            self.samples=self.samples[self.k:]\n",
    "            for k in range(self.k):\n",
    "                self.clusters.append([])\n",
    "                \n",
    "        if self.longest_dist == True:\n",
    "            self.centers=[]\n",
    "            self.samples=self.data\n",
    "            np.random.shuffle(self.samples)\n",
    "            self.centers.append(self.samples[0])\n",
    "            c=self.samples[0]\n",
    "            for _ in range(self.k - 1):\n",
    "                temp_list=[]\n",
    "                for s in self.samples:\n",
    "                    temp_list.append(self.oclidian_dist(s,c))\n",
    "                self.centers.append(self.samples[np.argmax(temp_list)])\n",
    "                c=self.cluster_cent(self.centers)\n",
    "                "
   ]
  },
  {
   "cell_type": "code",
   "execution_count": 7,
   "metadata": {},
   "outputs": [],
   "source": [
    "data=pd.read_csv('C:/Users/NP-soft/Desktop/data/clustering/data_1.csv')"
   ]
  },
  {
   "cell_type": "code",
   "execution_count": 8,
   "metadata": {},
   "outputs": [],
   "source": [
    "km_clus=K_means(3)\n",
    "clusters =km_clus.fit(data , longest_dist=False)"
   ]
  },
  {
   "cell_type": "code",
   "execution_count": 9,
   "metadata": {},
   "outputs": [
    {
     "data": {
      "image/png": "[encoded data removed]",
      "text/plain": [
       "<Figure size 432x288 with 1 Axes>"
      ]
     },
     "metadata": {
      "needs_background": "light"
     },
     "output_type": "display_data"
    }
   ],
   "source": [
    "x=data.iloc[:,0]\n",
    "y=data.iloc[:,1]\n",
    "plt.scatter(x,y,c='orchid')\n",
    "plt.title('Data')\n",
    "plt.show()"
   ]
  },
  {
   "cell_type": "code",
   "execution_count": 10,
   "metadata": {},
   "outputs": [
    {
     "data": {
      "image/png": "[encoded data removed]",
      "text/plain": [
       "<Figure size 432x288 with 1 Axes>"
      ]
     },
     "metadata": {
      "needs_background": "light"
     },
     "output_type": "display_data"
    }
   ],
   "source": [
    "c1=np.array(clusters[0])\n",
    "c2=np.array(clusters[1])\n",
    "c3=np.array(clusters[2])\n",
    "plt.scatter(c1[:,0],c1[:,1],c='blue')\n",
    "plt.scatter(c2[:,0],c2[:,1],c='red')\n",
    "plt.scatter(c3[:,0],c3[:,1],c='green')\n",
    "plt.title('Data')\n",
    "plt.show()"
   ]
  }
 ],
 "metadata": {
  "kernelspec": {
   "display_name": "Python 3",
   "language": "python",
   "name": "python3"
  },
  "language_info": {
   "codemirror_mode": {
    "name": "ipython",
    "version": 3
   },
   "file_extension": ".py",
   "mimetype": "text/x-python",
   "name": "python",
   "nbconvert_exporter": "python",
   "pygments_lexer": "ipython3",
   "version": "3.7.4"
  }
 },
 "nbformat": 4,
 "nbformat_minor": 2
}
